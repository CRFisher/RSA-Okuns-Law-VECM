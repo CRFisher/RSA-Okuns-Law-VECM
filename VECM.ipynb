{
 "cells": [
  {
   "cell_type": "code",
   "execution_count": 8,
   "metadata": {},
   "outputs": [],
   "source": [
    "import numpy as np\n",
    "import pandas as pd\n",
    "import matplotlib.pyplot as plt\n",
    "import seaborn as sns\n",
    "from statsmodels.tsa.vector_ar import vecm\n",
    "from statsmodels.tsa.stattools import adfuller"
   ]
  },
  {
   "cell_type": "code",
   "execution_count": 9,
   "metadata": {},
   "outputs": [
    {
     "data": {
      "text/html": [
       "<div>\n",
       "<style scoped>\n",
       "    .dataframe tbody tr th:only-of-type {\n",
       "        vertical-align: middle;\n",
       "    }\n",
       "\n",
       "    .dataframe tbody tr th {\n",
       "        vertical-align: top;\n",
       "    }\n",
       "\n",
       "    .dataframe thead th {\n",
       "        text-align: right;\n",
       "    }\n",
       "</style>\n",
       "<table border=\"1\" class=\"dataframe\">\n",
       "  <thead>\n",
       "    <tr style=\"text-align: right;\">\n",
       "      <th></th>\n",
       "      <th>Date</th>\n",
       "      <th>GDP</th>\n",
       "      <th>UnRate</th>\n",
       "      <th>GDPgrowth</th>\n",
       "    </tr>\n",
       "  </thead>\n",
       "  <tbody>\n",
       "    <tr>\n",
       "      <th>0</th>\n",
       "      <td>1995-01-01</td>\n",
       "      <td>1692669</td>\n",
       "      <td>16.9</td>\n",
       "      <td>1.444820</td>\n",
       "    </tr>\n",
       "    <tr>\n",
       "      <th>1</th>\n",
       "      <td>1995-04-01</td>\n",
       "      <td>1700185</td>\n",
       "      <td>16.9</td>\n",
       "      <td>1.776130</td>\n",
       "    </tr>\n",
       "    <tr>\n",
       "      <th>2</th>\n",
       "      <td>1995-07-01</td>\n",
       "      <td>1707524</td>\n",
       "      <td>16.9</td>\n",
       "      <td>1.726636</td>\n",
       "    </tr>\n",
       "    <tr>\n",
       "      <th>3</th>\n",
       "      <td>1995-10-01</td>\n",
       "      <td>1714263</td>\n",
       "      <td>16.9</td>\n",
       "      <td>1.578660</td>\n",
       "    </tr>\n",
       "    <tr>\n",
       "      <th>4</th>\n",
       "      <td>1996-01-01</td>\n",
       "      <td>1738318</td>\n",
       "      <td>19.3</td>\n",
       "      <td>5.612908</td>\n",
       "    </tr>\n",
       "  </tbody>\n",
       "</table>\n",
       "</div>"
      ],
      "text/plain": [
       "        Date      GDP  UnRate  GDPgrowth\n",
       "0 1995-01-01  1692669    16.9   1.444820\n",
       "1 1995-04-01  1700185    16.9   1.776130\n",
       "2 1995-07-01  1707524    16.9   1.726636\n",
       "3 1995-10-01  1714263    16.9   1.578660\n",
       "4 1996-01-01  1738318    19.3   5.612908"
      ]
     },
     "execution_count": 9,
     "metadata": {},
     "output_type": "execute_result"
    }
   ],
   "source": [
    "parser = lambda x: pd.to_datetime(x, format=\"%Y-%m-%d\")\n",
    "df = pd.read_csv('data/Final.csv',date_parser=parser,parse_dates=['Date'])\n",
    "df.head()"
   ]
  },
  {
   "cell_type": "code",
   "execution_count": 10,
   "metadata": {},
   "outputs": [
    {
     "data": {
      "text/plain": [
       "<AxesSubplot:xlabel='Date', ylabel='GDP'>"
      ]
     },
     "execution_count": 10,
     "metadata": {},
     "output_type": "execute_result"
    },
    {
     "data": {
      "image/png": "[encoded data removed]",
      "text/plain": [
       "<Figure size 640x480 with 1 Axes>"
      ]
     },
     "metadata": {},
     "output_type": "display_data"
    }
   ],
   "source": [
    "sns.lineplot(x='Date',y='GDP',data=df)"
   ]
  },
  {
   "cell_type": "code",
   "execution_count": 14,
   "metadata": {},
   "outputs": [],
   "source": [
    "df['LGDP'] = df['GDP'].apply(lambda x: np.log(x))"
   ]
  },
  {
   "cell_type": "code",
   "execution_count": 38,
   "metadata": {},
   "outputs": [],
   "source": [
    "def ADFuller_test(dframe,rvar=False,auto='AIC',reg='c',maxl=12):\n",
    "    test = adfuller(x = dframe,autolag=auto,regression=reg,maxlag=maxl)\n",
    "    if test[1] <= 0.05:\n",
    "        sig = 'Variable is stationary'\n",
    "    else:\n",
    "        sig = 'Variable is nonstationary'\n",
    "    results = {\n",
    "        't-statistic':test[0],\n",
    "        'pvalue':test[1],\n",
    "        'critical values':test[4],\n",
    "        'stationarity':sig\n",
    "\n",
    "    }\n",
    "    return results"
   ]
  },
  {
   "cell_type": "code",
   "execution_count": 29,
   "metadata": {},
   "outputs": [
    {
     "data": {
      "text/plain": [
       "{'t-statistic': -2.0922375785762024,\n",
       " 'pvalue': 0.2476473444374977,\n",
       " 'critical values': {'1%': -3.4989097606014496,\n",
       "  '5%': -2.891516256916761,\n",
       "  '10%': -2.5827604414827157},\n",
       " 'stationarity': 'Variable is nonstationary'}"
      ]
     },
     "execution_count": 29,
     "metadata": {},
     "output_type": "execute_result"
    }
   ],
   "source": [
    "ADFuller_test(df['LGDP'])"
   ]
  },
  {
   "cell_type": "code",
   "execution_count": 35,
   "metadata": {},
   "outputs": [
    {
     "data": {
      "text/plain": [
       "{'t-statistic': -5.275550449891832,\n",
       " 'pvalue': 6.151666793699424e-06,\n",
       " 'critical values': {'1%': -3.4989097606014496,\n",
       "  '5%': -2.891516256916761,\n",
       "  '10%': -2.5827604414827157},\n",
       " 'stationarity': 'Variable is stationary'}"
      ]
     },
     "execution_count": 35,
     "metadata": {},
     "output_type": "execute_result"
    }
   ],
   "source": [
    "ADFuller_test(df['LGDP'].diff().dropna())"
   ]
  },
  {
   "cell_type": "code",
   "execution_count": 30,
   "metadata": {},
   "outputs": [
    {
     "data": {
      "text/plain": [
       "{'t-statistic': -5.777036845292535,\n",
       " 'pvalue': 6.3778812690040294e-06,\n",
       " 'critical values': {'1%': -4.053254236405479,\n",
       "  '5%': -3.455806184392646,\n",
       "  '10%': -3.1535907061122397},\n",
       " 'stationarity': 'Variable is stationary'}"
      ]
     },
     "execution_count": 30,
     "metadata": {},
     "output_type": "execute_result"
    }
   ],
   "source": [
    "ADFuller_test(df['GDPgrowth'],reg='ct')"
   ]
  },
  {
   "cell_type": "code",
   "execution_count": 27,
   "metadata": {},
   "outputs": [
    {
     "data": {
      "text/plain": [
       "{'t-statistic': -2.075087716315337,\n",
       " 'pvalue': 0.2546492079815922,\n",
       " 'critical values': {'1%': -3.506057133647011,\n",
       "  '5%': -2.8946066061911946,\n",
       "  '10%': -2.5844100201994697},\n",
       " 'stationarity': 'Variable is nonstationary'}"
      ]
     },
     "execution_count": 27,
     "metadata": {},
     "output_type": "execute_result"
    }
   ],
   "source": [
    "ADFuller_test(df['UnRate'])"
   ]
  },
  {
   "cell_type": "code",
   "execution_count": 41,
   "metadata": {},
   "outputs": [
    {
     "data": {
      "text/plain": [
       "{'t-statistic': -3.157628271508245,\n",
       " 'pvalue': 0.02257210091547192,\n",
       " 'critical values': {'1%': -3.506057133647011,\n",
       "  '5%': -2.8946066061911946,\n",
       "  '10%': -2.5844100201994697},\n",
       " 'stationarity': 'Variable is stationary'}"
      ]
     },
     "execution_count": 41,
     "metadata": {},
     "output_type": "execute_result"
    }
   ],
   "source": [
    "ADFuller_test(df['UnRate'].diff().dropna())"
   ]
  },
  {
   "cell_type": "code",
   "execution_count": null,
   "metadata": {},
   "outputs": [],
   "source": []
  }
 ],
 "metadata": {
  "kernelspec": {
   "display_name": "Python 3.8.13 ('base')",
   "language": "python",
   "name": "python3"
  },
  "language_info": {
   "codemirror_mode": {
    "name": "ipython",
    "version": 3
   },
   "file_extension": ".py",
   "mimetype": "text/x-python",
   "name": "python",
   "nbconvert_exporter": "python",
   "pygments_lexer": "ipython3",
   "version": "3.8.13"
  },
  "orig_nbformat": 4,
  "vscode": {
   "interpreter": {
    "hash": "fc56f9a4ecd58dcd1ada9a2448ec5f75d7a1aaa15329482faa6213ab95199a9c"
   }
  }
 },
 "nbformat": 4,
 "nbformat_minor": 2
}
